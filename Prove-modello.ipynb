{
 "cells": [
  {
   "cell_type": "markdown",
   "id": "241a66e3",
   "metadata": {},
   "source": [
    "## Importiamo le librerie necessarie"
   ]
  },
  {
   "cell_type": "code",
   "execution_count": 2,
   "id": "a28f9c89-8cfb-426a-ac76-0b6a27295bc9",
   "metadata": {},
   "outputs": [],
   "source": [
    "import matplotlib.pyplot as plt\n",
    "%matplotlib inline\n",
    "import pandas as pd\n",
    "import numpy as np"
   ]
  },
  {
   "cell_type": "markdown",
   "id": "ca4215fd",
   "metadata": {},
   "source": [
    "## Importazione dati e creazione di un dataframe\n",
    "- Importiamo il dataset (dataset3) e lo inseriamo in un dataframe di pandas chiamato pagamenti\n",
    "- visualizziamo le prime 5 righe del dataframe"
   ]
  },
  {
   "cell_type": "code",
   "execution_count": 3,
   "id": "2a3dfa21-6515-40d7-af8e-85972cf9bf0d",
   "metadata": {},
   "outputs": [
    {
     "data": {
      "text/html": [
       "<div>\n",
       "<style scoped>\n",
       "    .dataframe tbody tr th:only-of-type {\n",
       "        vertical-align: middle;\n",
       "    }\n",
       "\n",
       "    .dataframe tbody tr th {\n",
       "        vertical-align: top;\n",
       "    }\n",
       "\n",
       "    .dataframe thead th {\n",
       "        text-align: right;\n",
       "    }\n",
       "</style>\n",
       "<table border=\"1\" class=\"dataframe\">\n",
       "  <thead>\n",
       "    <tr style=\"text-align: right;\">\n",
       "      <th></th>\n",
       "      <th>Timestamp</th>\n",
       "      <th>User ID</th>\n",
       "      <th>Beneficiary ID</th>\n",
       "      <th>Amount</th>\n",
       "      <th>Transaction ID</th>\n",
       "      <th>Transaction Type</th>\n",
       "      <th>Payment Method</th>\n",
       "      <th>Account Balance Before</th>\n",
       "      <th>Account Balance After</th>\n",
       "      <th>Transaction Status</th>\n",
       "      <th>Location</th>\n",
       "      <th>Category</th>\n",
       "      <th>Fee</th>\n",
       "      <th>Tax</th>\n",
       "    </tr>\n",
       "  </thead>\n",
       "  <tbody>\n",
       "    <tr>\n",
       "      <th>0</th>\n",
       "      <td>2023-10-18 15:04:28</td>\n",
       "      <td>478</td>\n",
       "      <td>7225</td>\n",
       "      <td>675.09</td>\n",
       "      <td>9af1a39a-d229-4120-8dfc-2f9cac3bbb21</td>\n",
       "      <td>payment</td>\n",
       "      <td>bank transfer</td>\n",
       "      <td>6063.69</td>\n",
       "      <td>5388.60</td>\n",
       "      <td>completed</td>\n",
       "      <td>Villa Ripa, Bergamo, Italia</td>\n",
       "      <td>Sport</td>\n",
       "      <td>3.55</td>\n",
       "      <td>1.74</td>\n",
       "    </tr>\n",
       "    <tr>\n",
       "      <th>1</th>\n",
       "      <td>2024-02-07 08:28:19</td>\n",
       "      <td>750</td>\n",
       "      <td>7705</td>\n",
       "      <td>157.68</td>\n",
       "      <td>f0e6f760-e951-43a7-826b-9ec73c2de977</td>\n",
       "      <td>payment</td>\n",
       "      <td>PayPal</td>\n",
       "      <td>7975.02</td>\n",
       "      <td>7817.34</td>\n",
       "      <td>completed</td>\n",
       "      <td>Leonforte, Firenze, Italia</td>\n",
       "      <td>Vestiti</td>\n",
       "      <td>3.40</td>\n",
       "      <td>1.80</td>\n",
       "    </tr>\n",
       "    <tr>\n",
       "      <th>2</th>\n",
       "      <td>2024-03-24 13:22:59</td>\n",
       "      <td>67</td>\n",
       "      <td>3006</td>\n",
       "      <td>13.09</td>\n",
       "      <td>2cd70498-4d4d-4fa3-a094-f27eb1f60781</td>\n",
       "      <td>payment</td>\n",
       "      <td>PayPal</td>\n",
       "      <td>4549.07</td>\n",
       "      <td>4535.98</td>\n",
       "      <td>completed</td>\n",
       "      <td>Gonnosno', Belluno, Italia</td>\n",
       "      <td>Netflix</td>\n",
       "      <td>0.50</td>\n",
       "      <td>2.84</td>\n",
       "    </tr>\n",
       "    <tr>\n",
       "      <th>3</th>\n",
       "      <td>2023-01-21 08:40:44</td>\n",
       "      <td>97</td>\n",
       "      <td>7741</td>\n",
       "      <td>56.57</td>\n",
       "      <td>84fd3fe1-fe4d-46dc-b2b4-633d4f0688ec</td>\n",
       "      <td>payment</td>\n",
       "      <td>credit card</td>\n",
       "      <td>4279.21</td>\n",
       "      <td>4222.64</td>\n",
       "      <td>completed</td>\n",
       "      <td>Santi Cosma E Damiano, Pisa, Italia</td>\n",
       "      <td>Alimentari</td>\n",
       "      <td>0.70</td>\n",
       "      <td>2.62</td>\n",
       "    </tr>\n",
       "    <tr>\n",
       "      <th>4</th>\n",
       "      <td>2023-01-15 09:26:00</td>\n",
       "      <td>725</td>\n",
       "      <td>7573</td>\n",
       "      <td>87.32</td>\n",
       "      <td>00cfe072-e077-4dbf-9c75-9e93897094cb</td>\n",
       "      <td>payment</td>\n",
       "      <td>PayPal</td>\n",
       "      <td>2441.96</td>\n",
       "      <td>2354.64</td>\n",
       "      <td>completed</td>\n",
       "      <td>Pedivigliano, Perugia, Italia</td>\n",
       "      <td>Alimentari</td>\n",
       "      <td>2.60</td>\n",
       "      <td>2.03</td>\n",
       "    </tr>\n",
       "  </tbody>\n",
       "</table>\n",
       "</div>"
      ],
      "text/plain": [
       "             Timestamp  User ID  Beneficiary ID  Amount  \\\n",
       "0  2023-10-18 15:04:28      478            7225  675.09   \n",
       "1  2024-02-07 08:28:19      750            7705  157.68   \n",
       "2  2024-03-24 13:22:59       67            3006   13.09   \n",
       "3  2023-01-21 08:40:44       97            7741   56.57   \n",
       "4  2023-01-15 09:26:00      725            7573   87.32   \n",
       "\n",
       "                         Transaction ID Transaction Type Payment Method  \\\n",
       "0  9af1a39a-d229-4120-8dfc-2f9cac3bbb21          payment  bank transfer   \n",
       "1  f0e6f760-e951-43a7-826b-9ec73c2de977          payment         PayPal   \n",
       "2  2cd70498-4d4d-4fa3-a094-f27eb1f60781          payment         PayPal   \n",
       "3  84fd3fe1-fe4d-46dc-b2b4-633d4f0688ec          payment    credit card   \n",
       "4  00cfe072-e077-4dbf-9c75-9e93897094cb          payment         PayPal   \n",
       "\n",
       "   Account Balance Before  Account Balance After Transaction Status  \\\n",
       "0                 6063.69                5388.60          completed   \n",
       "1                 7975.02                7817.34          completed   \n",
       "2                 4549.07                4535.98          completed   \n",
       "3                 4279.21                4222.64          completed   \n",
       "4                 2441.96                2354.64          completed   \n",
       "\n",
       "                              Location    Category   Fee   Tax  \n",
       "0          Villa Ripa, Bergamo, Italia       Sport  3.55  1.74  \n",
       "1           Leonforte, Firenze, Italia     Vestiti  3.40  1.80  \n",
       "2           Gonnosno', Belluno, Italia     Netflix  0.50  2.84  \n",
       "3  Santi Cosma E Damiano, Pisa, Italia  Alimentari  0.70  2.62  \n",
       "4        Pedivigliano, Perugia, Italia  Alimentari  2.60  2.03  "
      ]
     },
     "execution_count": 3,
     "metadata": {},
     "output_type": "execute_result"
    }
   ],
   "source": [
    "pagamenti = pd.read_csv(\"dataset3.csv\")\n",
    "pagamenti.head()"
   ]
  },
  {
   "cell_type": "markdown",
   "id": "06bf1581-33e7-4cf3-8c9e-ba05888adfb1",
   "metadata": {},
   "source": [
    "Vogliamo provare a creare un modello di predizione delle categorie, importiamo quindi da scikit-learn le librerie necessarie"
   ]
  },
  {
   "cell_type": "code",
   "execution_count": 8,
   "id": "4c564757",
   "metadata": {},
   "outputs": [
    {
     "data": {
      "text/plain": [
       "(80000, 20000)"
      ]
     },
     "execution_count": 8,
     "metadata": {},
     "output_type": "execute_result"
    }
   ],
   "source": [
    "from sklearn.model_selection import train_test_split\n",
    "\n",
    "#selezioniamo i dati che servono per la predizione\n",
    "X = pagamenti[[\"User ID\", \"Beneficiary ID\", \"Amount\"]]\n",
    "#selezioniamo le etichette da predirre\n",
    "y = pagamenti[\"Category\"]\n",
    "\n",
    "#Creiamo tramite train_test_split le porzioni di dataset\n",
    "X_train, X_test, y_train, y_test = train_test_split(X, y, test_size=0.2, random_state=55)\n",
    "#Abbiamo assegnato 80% del dataset per il train e il 20% per il test, diamo un check\n",
    "len(X_train), len(X_test)"
   ]
  },
  {
   "cell_type": "markdown",
   "id": "a66bbb14",
   "metadata": {},
   "source": [
    "Importiamo un modello di classificazione e passiamoli la porzione di train per allenarlo e ottenere uno score"
   ]
  },
  {
   "cell_type": "code",
   "execution_count": 9,
   "id": "b0d31391",
   "metadata": {},
   "outputs": [
    {
     "data": {
      "text/plain": [
       "0.62685"
      ]
     },
     "execution_count": 9,
     "metadata": {},
     "output_type": "execute_result"
    }
   ],
   "source": [
    "from sklearn.neighbors import KNeighborsClassifier\n",
    "\n",
    "knn_model = KNeighborsClassifier()\n",
    "knn_model.fit(X_train, y_train)\n",
    "knn_model.score(X_test, y_test)"
   ]
  },
  {
   "cell_type": "code",
   "execution_count": 14,
   "id": "c5e62269",
   "metadata": {},
   "outputs": [
    {
     "name": "stdout",
     "output_type": "stream",
     "text": [
      "Il punteggio con  5  neighbors è:  0.62685\n",
      "Il punteggio con  10  neighbors è:  0.6149\n",
      "Il punteggio con  15  neighbors è:  0.6196\n",
      "Il punteggio con  20  neighbors è:  0.6194\n",
      "Il punteggio con  25  neighbors è:  0.61495\n",
      "Il punteggio con  30  neighbors è:  0.6073\n",
      "Il punteggio con  35  neighbors è:  0.60805\n",
      "Il punteggio con  40  neighbors è:  0.6053\n",
      "Il punteggio con  45  neighbors è:  0.6059\n",
      "Il punteggio con  50  neighbors è:  0.6026\n",
      "Il punteggio con  55  neighbors è:  0.60315\n",
      "Il punteggio con  60  neighbors è:  0.5983\n",
      "Il punteggio con  65  neighbors è:  0.6005\n",
      "Il punteggio con  70  neighbors è:  0.5994\n",
      "Il punteggio con  75  neighbors è:  0.6\n",
      "Il punteggio con  80  neighbors è:  0.5963\n",
      "Il punteggio con  85  neighbors è:  0.5965\n",
      "Il punteggio con  90  neighbors è:  0.59465\n",
      "Il punteggio con  95  neighbors è:  0.59465\n"
     ]
    }
   ],
   "source": [
    "#Risultato non soddisfacente proviamo a vedere con diversi numeri di neighbors\n",
    "\n",
    "for i in range(5, 100, 5):\n",
    "    knn_model = KNeighborsClassifier(n_neighbors=i)\n",
    "    knn_model.fit(X_train, y_train)\n",
    "    print(\"Il punteggio con \", i, \" neighbors è: \", knn_model.score(X_test, y_test))\n",
    "\n"
   ]
  },
  {
   "cell_type": "code",
   "execution_count": 15,
   "id": "62810777",
   "metadata": {},
   "outputs": [
    {
     "data": {
      "text/html": [
       "<style>#sk-container-id-1 {\n",
       "  /* Definition of color scheme common for light and dark mode */\n",
       "  --sklearn-color-text: black;\n",
       "  --sklearn-color-line: gray;\n",
       "  /* Definition of color scheme for unfitted estimators */\n",
       "  --sklearn-color-unfitted-level-0: #fff5e6;\n",
       "  --sklearn-color-unfitted-level-1: #f6e4d2;\n",
       "  --sklearn-color-unfitted-level-2: #ffe0b3;\n",
       "  --sklearn-color-unfitted-level-3: chocolate;\n",
       "  /* Definition of color scheme for fitted estimators */\n",
       "  --sklearn-color-fitted-level-0: #f0f8ff;\n",
       "  --sklearn-color-fitted-level-1: #d4ebff;\n",
       "  --sklearn-color-fitted-level-2: #b3dbfd;\n",
       "  --sklearn-color-fitted-level-3: cornflowerblue;\n",
       "\n",
       "  /* Specific color for light theme */\n",
       "  --sklearn-color-text-on-default-background: var(--sg-text-color, var(--theme-code-foreground, var(--jp-content-font-color1, black)));\n",
       "  --sklearn-color-background: var(--sg-background-color, var(--theme-background, var(--jp-layout-color0, white)));\n",
       "  --sklearn-color-border-box: var(--sg-text-color, var(--theme-code-foreground, var(--jp-content-font-color1, black)));\n",
       "  --sklearn-color-icon: #696969;\n",
       "\n",
       "  @media (prefers-color-scheme: dark) {\n",
       "    /* Redefinition of color scheme for dark theme */\n",
       "    --sklearn-color-text-on-default-background: var(--sg-text-color, var(--theme-code-foreground, var(--jp-content-font-color1, white)));\n",
       "    --sklearn-color-background: var(--sg-background-color, var(--theme-background, var(--jp-layout-color0, #111)));\n",
       "    --sklearn-color-border-box: var(--sg-text-color, var(--theme-code-foreground, var(--jp-content-font-color1, white)));\n",
       "    --sklearn-color-icon: #878787;\n",
       "  }\n",
       "}\n",
       "\n",
       "#sk-container-id-1 {\n",
       "  color: var(--sklearn-color-text);\n",
       "}\n",
       "\n",
       "#sk-container-id-1 pre {\n",
       "  padding: 0;\n",
       "}\n",
       "\n",
       "#sk-container-id-1 input.sk-hidden--visually {\n",
       "  border: 0;\n",
       "  clip: rect(1px 1px 1px 1px);\n",
       "  clip: rect(1px, 1px, 1px, 1px);\n",
       "  height: 1px;\n",
       "  margin: -1px;\n",
       "  overflow: hidden;\n",
       "  padding: 0;\n",
       "  position: absolute;\n",
       "  width: 1px;\n",
       "}\n",
       "\n",
       "#sk-container-id-1 div.sk-dashed-wrapped {\n",
       "  border: 1px dashed var(--sklearn-color-line);\n",
       "  margin: 0 0.4em 0.5em 0.4em;\n",
       "  box-sizing: border-box;\n",
       "  padding-bottom: 0.4em;\n",
       "  background-color: var(--sklearn-color-background);\n",
       "}\n",
       "\n",
       "#sk-container-id-1 div.sk-container {\n",
       "  /* jupyter's `normalize.less` sets `[hidden] { display: none; }`\n",
       "     but bootstrap.min.css set `[hidden] { display: none !important; }`\n",
       "     so we also need the `!important` here to be able to override the\n",
       "     default hidden behavior on the sphinx rendered scikit-learn.org.\n",
       "     See: https://github.com/scikit-learn/scikit-learn/issues/21755 */\n",
       "  display: inline-block !important;\n",
       "  position: relative;\n",
       "}\n",
       "\n",
       "#sk-container-id-1 div.sk-text-repr-fallback {\n",
       "  display: none;\n",
       "}\n",
       "\n",
       "div.sk-parallel-item,\n",
       "div.sk-serial,\n",
       "div.sk-item {\n",
       "  /* draw centered vertical line to link estimators */\n",
       "  background-image: linear-gradient(var(--sklearn-color-text-on-default-background), var(--sklearn-color-text-on-default-background));\n",
       "  background-size: 2px 100%;\n",
       "  background-repeat: no-repeat;\n",
       "  background-position: center center;\n",
       "}\n",
       "\n",
       "/* Parallel-specific style estimator block */\n",
       "\n",
       "#sk-container-id-1 div.sk-parallel-item::after {\n",
       "  content: \"\";\n",
       "  width: 100%;\n",
       "  border-bottom: 2px solid var(--sklearn-color-text-on-default-background);\n",
       "  flex-grow: 1;\n",
       "}\n",
       "\n",
       "#sk-container-id-1 div.sk-parallel {\n",
       "  display: flex;\n",
       "  align-items: stretch;\n",
       "  justify-content: center;\n",
       "  background-color: var(--sklearn-color-background);\n",
       "  position: relative;\n",
       "}\n",
       "\n",
       "#sk-container-id-1 div.sk-parallel-item {\n",
       "  display: flex;\n",
       "  flex-direction: column;\n",
       "}\n",
       "\n",
       "#sk-container-id-1 div.sk-parallel-item:first-child::after {\n",
       "  align-self: flex-end;\n",
       "  width: 50%;\n",
       "}\n",
       "\n",
       "#sk-container-id-1 div.sk-parallel-item:last-child::after {\n",
       "  align-self: flex-start;\n",
       "  width: 50%;\n",
       "}\n",
       "\n",
       "#sk-container-id-1 div.sk-parallel-item:only-child::after {\n",
       "  width: 0;\n",
       "}\n",
       "\n",
       "/* Serial-specific style estimator block */\n",
       "\n",
       "#sk-container-id-1 div.sk-serial {\n",
       "  display: flex;\n",
       "  flex-direction: column;\n",
       "  align-items: center;\n",
       "  background-color: var(--sklearn-color-background);\n",
       "  padding-right: 1em;\n",
       "  padding-left: 1em;\n",
       "}\n",
       "\n",
       "\n",
       "/* Toggleable style: style used for estimator/Pipeline/ColumnTransformer box that is\n",
       "clickable and can be expanded/collapsed.\n",
       "- Pipeline and ColumnTransformer use this feature and define the default style\n",
       "- Estimators will overwrite some part of the style using the `sk-estimator` class\n",
       "*/\n",
       "\n",
       "/* Pipeline and ColumnTransformer style (default) */\n",
       "\n",
       "#sk-container-id-1 div.sk-toggleable {\n",
       "  /* Default theme specific background. It is overwritten whether we have a\n",
       "  specific estimator or a Pipeline/ColumnTransformer */\n",
       "  background-color: var(--sklearn-color-background);\n",
       "}\n",
       "\n",
       "/* Toggleable label */\n",
       "#sk-container-id-1 label.sk-toggleable__label {\n",
       "  cursor: pointer;\n",
       "  display: block;\n",
       "  width: 100%;\n",
       "  margin-bottom: 0;\n",
       "  padding: 0.5em;\n",
       "  box-sizing: border-box;\n",
       "  text-align: center;\n",
       "}\n",
       "\n",
       "#sk-container-id-1 label.sk-toggleable__label-arrow:before {\n",
       "  /* Arrow on the left of the label */\n",
       "  content: \"▸\";\n",
       "  float: left;\n",
       "  margin-right: 0.25em;\n",
       "  color: var(--sklearn-color-icon);\n",
       "}\n",
       "\n",
       "#sk-container-id-1 label.sk-toggleable__label-arrow:hover:before {\n",
       "  color: var(--sklearn-color-text);\n",
       "}\n",
       "\n",
       "/* Toggleable content - dropdown */\n",
       "\n",
       "#sk-container-id-1 div.sk-toggleable__content {\n",
       "  max-height: 0;\n",
       "  max-width: 0;\n",
       "  overflow: hidden;\n",
       "  text-align: left;\n",
       "  /* unfitted */\n",
       "  background-color: var(--sklearn-color-unfitted-level-0);\n",
       "}\n",
       "\n",
       "#sk-container-id-1 div.sk-toggleable__content.fitted {\n",
       "  /* fitted */\n",
       "  background-color: var(--sklearn-color-fitted-level-0);\n",
       "}\n",
       "\n",
       "#sk-container-id-1 div.sk-toggleable__content pre {\n",
       "  margin: 0.2em;\n",
       "  border-radius: 0.25em;\n",
       "  color: var(--sklearn-color-text);\n",
       "  /* unfitted */\n",
       "  background-color: var(--sklearn-color-unfitted-level-0);\n",
       "}\n",
       "\n",
       "#sk-container-id-1 div.sk-toggleable__content.fitted pre {\n",
       "  /* unfitted */\n",
       "  background-color: var(--sklearn-color-fitted-level-0);\n",
       "}\n",
       "\n",
       "#sk-container-id-1 input.sk-toggleable__control:checked~div.sk-toggleable__content {\n",
       "  /* Expand drop-down */\n",
       "  max-height: 200px;\n",
       "  max-width: 100%;\n",
       "  overflow: auto;\n",
       "}\n",
       "\n",
       "#sk-container-id-1 input.sk-toggleable__control:checked~label.sk-toggleable__label-arrow:before {\n",
       "  content: \"▾\";\n",
       "}\n",
       "\n",
       "/* Pipeline/ColumnTransformer-specific style */\n",
       "\n",
       "#sk-container-id-1 div.sk-label input.sk-toggleable__control:checked~label.sk-toggleable__label {\n",
       "  color: var(--sklearn-color-text);\n",
       "  background-color: var(--sklearn-color-unfitted-level-2);\n",
       "}\n",
       "\n",
       "#sk-container-id-1 div.sk-label.fitted input.sk-toggleable__control:checked~label.sk-toggleable__label {\n",
       "  background-color: var(--sklearn-color-fitted-level-2);\n",
       "}\n",
       "\n",
       "/* Estimator-specific style */\n",
       "\n",
       "/* Colorize estimator box */\n",
       "#sk-container-id-1 div.sk-estimator input.sk-toggleable__control:checked~label.sk-toggleable__label {\n",
       "  /* unfitted */\n",
       "  background-color: var(--sklearn-color-unfitted-level-2);\n",
       "}\n",
       "\n",
       "#sk-container-id-1 div.sk-estimator.fitted input.sk-toggleable__control:checked~label.sk-toggleable__label {\n",
       "  /* fitted */\n",
       "  background-color: var(--sklearn-color-fitted-level-2);\n",
       "}\n",
       "\n",
       "#sk-container-id-1 div.sk-label label.sk-toggleable__label,\n",
       "#sk-container-id-1 div.sk-label label {\n",
       "  /* The background is the default theme color */\n",
       "  color: var(--sklearn-color-text-on-default-background);\n",
       "}\n",
       "\n",
       "/* On hover, darken the color of the background */\n",
       "#sk-container-id-1 div.sk-label:hover label.sk-toggleable__label {\n",
       "  color: var(--sklearn-color-text);\n",
       "  background-color: var(--sklearn-color-unfitted-level-2);\n",
       "}\n",
       "\n",
       "/* Label box, darken color on hover, fitted */\n",
       "#sk-container-id-1 div.sk-label.fitted:hover label.sk-toggleable__label.fitted {\n",
       "  color: var(--sklearn-color-text);\n",
       "  background-color: var(--sklearn-color-fitted-level-2);\n",
       "}\n",
       "\n",
       "/* Estimator label */\n",
       "\n",
       "#sk-container-id-1 div.sk-label label {\n",
       "  font-family: monospace;\n",
       "  font-weight: bold;\n",
       "  display: inline-block;\n",
       "  line-height: 1.2em;\n",
       "}\n",
       "\n",
       "#sk-container-id-1 div.sk-label-container {\n",
       "  text-align: center;\n",
       "}\n",
       "\n",
       "/* Estimator-specific */\n",
       "#sk-container-id-1 div.sk-estimator {\n",
       "  font-family: monospace;\n",
       "  border: 1px dotted var(--sklearn-color-border-box);\n",
       "  border-radius: 0.25em;\n",
       "  box-sizing: border-box;\n",
       "  margin-bottom: 0.5em;\n",
       "  /* unfitted */\n",
       "  background-color: var(--sklearn-color-unfitted-level-0);\n",
       "}\n",
       "\n",
       "#sk-container-id-1 div.sk-estimator.fitted {\n",
       "  /* fitted */\n",
       "  background-color: var(--sklearn-color-fitted-level-0);\n",
       "}\n",
       "\n",
       "/* on hover */\n",
       "#sk-container-id-1 div.sk-estimator:hover {\n",
       "  /* unfitted */\n",
       "  background-color: var(--sklearn-color-unfitted-level-2);\n",
       "}\n",
       "\n",
       "#sk-container-id-1 div.sk-estimator.fitted:hover {\n",
       "  /* fitted */\n",
       "  background-color: var(--sklearn-color-fitted-level-2);\n",
       "}\n",
       "\n",
       "/* Specification for estimator info (e.g. \"i\" and \"?\") */\n",
       "\n",
       "/* Common style for \"i\" and \"?\" */\n",
       "\n",
       ".sk-estimator-doc-link,\n",
       "a:link.sk-estimator-doc-link,\n",
       "a:visited.sk-estimator-doc-link {\n",
       "  float: right;\n",
       "  font-size: smaller;\n",
       "  line-height: 1em;\n",
       "  font-family: monospace;\n",
       "  background-color: var(--sklearn-color-background);\n",
       "  border-radius: 1em;\n",
       "  height: 1em;\n",
       "  width: 1em;\n",
       "  text-decoration: none !important;\n",
       "  margin-left: 1ex;\n",
       "  /* unfitted */\n",
       "  border: var(--sklearn-color-unfitted-level-1) 1pt solid;\n",
       "  color: var(--sklearn-color-unfitted-level-1);\n",
       "}\n",
       "\n",
       ".sk-estimator-doc-link.fitted,\n",
       "a:link.sk-estimator-doc-link.fitted,\n",
       "a:visited.sk-estimator-doc-link.fitted {\n",
       "  /* fitted */\n",
       "  border: var(--sklearn-color-fitted-level-1) 1pt solid;\n",
       "  color: var(--sklearn-color-fitted-level-1);\n",
       "}\n",
       "\n",
       "/* On hover */\n",
       "div.sk-estimator:hover .sk-estimator-doc-link:hover,\n",
       ".sk-estimator-doc-link:hover,\n",
       "div.sk-label-container:hover .sk-estimator-doc-link:hover,\n",
       ".sk-estimator-doc-link:hover {\n",
       "  /* unfitted */\n",
       "  background-color: var(--sklearn-color-unfitted-level-3);\n",
       "  color: var(--sklearn-color-background);\n",
       "  text-decoration: none;\n",
       "}\n",
       "\n",
       "div.sk-estimator.fitted:hover .sk-estimator-doc-link.fitted:hover,\n",
       ".sk-estimator-doc-link.fitted:hover,\n",
       "div.sk-label-container:hover .sk-estimator-doc-link.fitted:hover,\n",
       ".sk-estimator-doc-link.fitted:hover {\n",
       "  /* fitted */\n",
       "  background-color: var(--sklearn-color-fitted-level-3);\n",
       "  color: var(--sklearn-color-background);\n",
       "  text-decoration: none;\n",
       "}\n",
       "\n",
       "/* Span, style for the box shown on hovering the info icon */\n",
       ".sk-estimator-doc-link span {\n",
       "  display: none;\n",
       "  z-index: 9999;\n",
       "  position: relative;\n",
       "  font-weight: normal;\n",
       "  right: .2ex;\n",
       "  padding: .5ex;\n",
       "  margin: .5ex;\n",
       "  width: min-content;\n",
       "  min-width: 20ex;\n",
       "  max-width: 50ex;\n",
       "  color: var(--sklearn-color-text);\n",
       "  box-shadow: 2pt 2pt 4pt #999;\n",
       "  /* unfitted */\n",
       "  background: var(--sklearn-color-unfitted-level-0);\n",
       "  border: .5pt solid var(--sklearn-color-unfitted-level-3);\n",
       "}\n",
       "\n",
       ".sk-estimator-doc-link.fitted span {\n",
       "  /* fitted */\n",
       "  background: var(--sklearn-color-fitted-level-0);\n",
       "  border: var(--sklearn-color-fitted-level-3);\n",
       "}\n",
       "\n",
       ".sk-estimator-doc-link:hover span {\n",
       "  display: block;\n",
       "}\n",
       "\n",
       "/* \"?\"-specific style due to the `<a>` HTML tag */\n",
       "\n",
       "#sk-container-id-1 a.estimator_doc_link {\n",
       "  float: right;\n",
       "  font-size: 1rem;\n",
       "  line-height: 1em;\n",
       "  font-family: monospace;\n",
       "  background-color: var(--sklearn-color-background);\n",
       "  border-radius: 1rem;\n",
       "  height: 1rem;\n",
       "  width: 1rem;\n",
       "  text-decoration: none;\n",
       "  /* unfitted */\n",
       "  color: var(--sklearn-color-unfitted-level-1);\n",
       "  border: var(--sklearn-color-unfitted-level-1) 1pt solid;\n",
       "}\n",
       "\n",
       "#sk-container-id-1 a.estimator_doc_link.fitted {\n",
       "  /* fitted */\n",
       "  border: var(--sklearn-color-fitted-level-1) 1pt solid;\n",
       "  color: var(--sklearn-color-fitted-level-1);\n",
       "}\n",
       "\n",
       "/* On hover */\n",
       "#sk-container-id-1 a.estimator_doc_link:hover {\n",
       "  /* unfitted */\n",
       "  background-color: var(--sklearn-color-unfitted-level-3);\n",
       "  color: var(--sklearn-color-background);\n",
       "  text-decoration: none;\n",
       "}\n",
       "\n",
       "#sk-container-id-1 a.estimator_doc_link.fitted:hover {\n",
       "  /* fitted */\n",
       "  background-color: var(--sklearn-color-fitted-level-3);\n",
       "}\n",
       "</style><div id=\"sk-container-id-1\" class=\"sk-top-container\"><div class=\"sk-text-repr-fallback\"><pre>KNeighborsClassifier()</pre><b>In a Jupyter environment, please rerun this cell to show the HTML representation or trust the notebook. <br />On GitHub, the HTML representation is unable to render, please try loading this page with nbviewer.org.</b></div><div class=\"sk-container\" hidden><div class=\"sk-item\"><div class=\"sk-estimator fitted sk-toggleable\"><input class=\"sk-toggleable__control sk-hidden--visually\" id=\"sk-estimator-id-1\" type=\"checkbox\" checked><label for=\"sk-estimator-id-1\" class=\"sk-toggleable__label fitted sk-toggleable__label-arrow fitted\">&nbsp;&nbsp;KNeighborsClassifier<a class=\"sk-estimator-doc-link fitted\" rel=\"noreferrer\" target=\"_blank\" href=\"https://scikit-learn.org/1.4/modules/generated/sklearn.neighbors.KNeighborsClassifier.html\">?<span>Documentation for KNeighborsClassifier</span></a><span class=\"sk-estimator-doc-link fitted\">i<span>Fitted</span></span></label><div class=\"sk-toggleable__content fitted\"><pre>KNeighborsClassifier()</pre></div> </div></div></div></div>"
      ],
      "text/plain": [
       "KNeighborsClassifier()"
      ]
     },
     "execution_count": 15,
     "metadata": {},
     "output_type": "execute_result"
    }
   ],
   "source": [
    "knn_model = KNeighborsClassifier(n_neighbors=5)\n",
    "knn_model.fit(X_train, y_train)"
   ]
  },
  {
   "cell_type": "code",
   "execution_count": 27,
   "id": "24b38856",
   "metadata": {},
   "outputs": [
    {
     "name": "stdout",
     "output_type": "stream",
     "text": [
      "Categoria prevista per il nuovo utente: Vestiti\n"
     ]
    },
    {
     "name": "stderr",
     "output_type": "stream",
     "text": [
      "c:\\Users\\filip\\Desktop\\Tirocinio\\env\\Lib\\site-packages\\sklearn\\base.py:493: UserWarning: X does not have valid feature names, but KNeighborsClassifier was fitted with feature names\n",
      "  warnings.warn(\n"
     ]
    }
   ],
   "source": [
    "new_user = {\n",
    "    \"User ID\": 1000,\n",
    "    \"Beneficiary ID\": 6012,\n",
    "    \"Amount\": 240.00,\n",
    "}\n",
    "\n",
    "new_user_array = np.array([list(new_user.values())])\n",
    "\n",
    "# Prevedere la categoria per il nuovo utente\n",
    "predicted_category = knn_model.predict(new_user_array)\n",
    "\n",
    "print(\"Categoria prevista per il nuovo utente:\", predicted_category[0])"
   ]
  },
  {
   "cell_type": "markdown",
   "id": "ce96147a",
   "metadata": {},
   "source": [
    "### Provo a eliminare la colonna Beneficiary ID, in quanto potrebbe avere dei bias dati dal numero"
   ]
  },
  {
   "cell_type": "code",
   "execution_count": 28,
   "id": "3fdc25b5",
   "metadata": {},
   "outputs": [
    {
     "data": {
      "text/plain": [
       "0.3343"
      ]
     },
     "execution_count": 28,
     "metadata": {},
     "output_type": "execute_result"
    }
   ],
   "source": [
    "X = pagamenti[[\"User ID\", \"Amount\"]]\n",
    "y = pagamenti[\"Category\"]\n",
    "\n",
    "X_train, X_test, y_train, y_test = train_test_split(X, y, test_size=0.2, random_state=55)\n",
    "knn_model = KNeighborsClassifier()\n",
    "knn_model.fit(X_train, y_train)\n",
    "knn_model.score(X_test, y_test)"
   ]
  },
  {
   "cell_type": "code",
   "execution_count": 45,
   "id": "b66fa2a0",
   "metadata": {},
   "outputs": [
    {
     "name": "stdout",
     "output_type": "stream",
     "text": [
      "Categoria prevista per il nuovo utente: Disney+\n"
     ]
    },
    {
     "name": "stderr",
     "output_type": "stream",
     "text": [
      "c:\\Users\\filip\\Desktop\\Tirocinio\\env\\Lib\\site-packages\\sklearn\\base.py:493: UserWarning: X does not have valid feature names, but KNeighborsClassifier was fitted with feature names\n",
      "  warnings.warn(\n"
     ]
    }
   ],
   "source": [
    "new_user = {\n",
    "    \"User ID\": 1000,\n",
    "    \"Amount\": 8.00,\n",
    "}\n",
    "\n",
    "new_user_array = np.array([list(new_user.values())])\n",
    "\n",
    "# Prevedere la categoria per il nuovo utente\n",
    "predicted_category = knn_model.predict(new_user_array)\n",
    "\n",
    "print(\"Categoria prevista per il nuovo utente:\", predicted_category[0])"
   ]
  },
  {
   "cell_type": "code",
   "execution_count": 46,
   "id": "3d410f13",
   "metadata": {},
   "outputs": [
    {
     "name": "stdout",
     "output_type": "stream",
     "text": [
      "Categoria prevista per il nuovo utente: Netflix\n"
     ]
    },
    {
     "name": "stderr",
     "output_type": "stream",
     "text": [
      "c:\\Users\\filip\\Desktop\\Tirocinio\\env\\Lib\\site-packages\\sklearn\\base.py:493: UserWarning: X does not have valid feature names, but KNeighborsClassifier was fitted with feature names\n",
      "  warnings.warn(\n"
     ]
    }
   ],
   "source": [
    "new_user = {\n",
    "    \"User ID\": 1000,\n",
    "    \"Amount\": 12.00,\n",
    "}\n",
    "\n",
    "new_user_array = np.array([list(new_user.values())])\n",
    "\n",
    "# Prevedere la categoria per il nuovo utente\n",
    "predicted_category = knn_model.predict(new_user_array)\n",
    "\n",
    "print(\"Categoria prevista per il nuovo utente:\", predicted_category[0])"
   ]
  },
  {
   "cell_type": "code",
   "execution_count": 47,
   "id": "c9922a8a",
   "metadata": {},
   "outputs": [
    {
     "name": "stdout",
     "output_type": "stream",
     "text": [
      "Categoria prevista per il nuovo utente: Farmacia\n"
     ]
    },
    {
     "name": "stderr",
     "output_type": "stream",
     "text": [
      "c:\\Users\\filip\\Desktop\\Tirocinio\\env\\Lib\\site-packages\\sklearn\\base.py:493: UserWarning: X does not have valid feature names, but KNeighborsClassifier was fitted with feature names\n",
      "  warnings.warn(\n"
     ]
    }
   ],
   "source": [
    "new_user = {\n",
    "    \"User ID\": 1000,\n",
    "    \"Amount\": 50.00,\n",
    "}\n",
    "\n",
    "new_user_array = np.array([list(new_user.values())])\n",
    "\n",
    "# Prevedere la categoria per il nuovo utente\n",
    "predicted_category = knn_model.predict(new_user_array)\n",
    "\n",
    "print(\"Categoria prevista per il nuovo utente:\", predicted_category[0])"
   ]
  },
  {
   "cell_type": "code",
   "execution_count": 48,
   "id": "da468d3e",
   "metadata": {},
   "outputs": [
    {
     "name": "stdout",
     "output_type": "stream",
     "text": [
      "Categoria prevista per il nuovo utente: Alimentari\n"
     ]
    },
    {
     "name": "stderr",
     "output_type": "stream",
     "text": [
      "c:\\Users\\filip\\Desktop\\Tirocinio\\env\\Lib\\site-packages\\sklearn\\base.py:493: UserWarning: X does not have valid feature names, but KNeighborsClassifier was fitted with feature names\n",
      "  warnings.warn(\n"
     ]
    }
   ],
   "source": [
    "new_user = {\n",
    "    \"User ID\": 1000,\n",
    "    \"Amount\": 70.00,\n",
    "}\n",
    "\n",
    "new_user_array = np.array([list(new_user.values())])\n",
    "\n",
    "# Prevedere la categoria per il nuovo utente\n",
    "predicted_category = knn_model.predict(new_user_array)\n",
    "\n",
    "print(\"Categoria prevista per il nuovo utente:\", predicted_category[0])"
   ]
  },
  {
   "cell_type": "code",
   "execution_count": 50,
   "id": "f610bbac",
   "metadata": {},
   "outputs": [
    {
     "name": "stdout",
     "output_type": "stream",
     "text": [
      "Categoria prevista per il nuovo utente: Amazon\n"
     ]
    },
    {
     "name": "stderr",
     "output_type": "stream",
     "text": [
      "c:\\Users\\filip\\Desktop\\Tirocinio\\env\\Lib\\site-packages\\sklearn\\base.py:493: UserWarning: X does not have valid feature names, but KNeighborsClassifier was fitted with feature names\n",
      "  warnings.warn(\n"
     ]
    }
   ],
   "source": [
    "new_user = {\n",
    "    \"User ID\": 1000,\n",
    "    \"Amount\": 100.00,\n",
    "}\n",
    "\n",
    "new_user_array = np.array([list(new_user.values())])\n",
    "\n",
    "# Prevedere la categoria per il nuovo utente\n",
    "predicted_category = knn_model.predict(new_user_array)\n",
    "\n",
    "print(\"Categoria prevista per il nuovo utente:\", predicted_category[0])"
   ]
  },
  {
   "cell_type": "code",
   "execution_count": 51,
   "id": "b50ed0b8",
   "metadata": {},
   "outputs": [
    {
     "name": "stdout",
     "output_type": "stream",
     "text": [
      "Categoria prevista per il nuovo utente: Elettronica\n"
     ]
    },
    {
     "name": "stderr",
     "output_type": "stream",
     "text": [
      "c:\\Users\\filip\\Desktop\\Tirocinio\\env\\Lib\\site-packages\\sklearn\\base.py:493: UserWarning: X does not have valid feature names, but KNeighborsClassifier was fitted with feature names\n",
      "  warnings.warn(\n"
     ]
    }
   ],
   "source": [
    "new_user = {\n",
    "    \"User ID\": 1000,\n",
    "    \"Amount\": 350.00,\n",
    "}\n",
    "\n",
    "new_user_array = np.array([list(new_user.values())])\n",
    "\n",
    "# Prevedere la categoria per il nuovo utente\n",
    "predicted_category = knn_model.predict(new_user_array)\n",
    "\n",
    "print(\"Categoria prevista per il nuovo utente:\", predicted_category[0])"
   ]
  },
  {
   "cell_type": "code",
   "execution_count": 52,
   "id": "65922588",
   "metadata": {},
   "outputs": [
    {
     "name": "stdout",
     "output_type": "stream",
     "text": [
      "Categoria prevista per il nuovo utente: Vestiti\n"
     ]
    },
    {
     "name": "stderr",
     "output_type": "stream",
     "text": [
      "c:\\Users\\filip\\Desktop\\Tirocinio\\env\\Lib\\site-packages\\sklearn\\base.py:493: UserWarning: X does not have valid feature names, but KNeighborsClassifier was fitted with feature names\n",
      "  warnings.warn(\n"
     ]
    }
   ],
   "source": [
    "new_user = {\n",
    "    \"User ID\": 1000,\n",
    "    \"Amount\": 250.00,\n",
    "}\n",
    "\n",
    "new_user_array = np.array([list(new_user.values())])\n",
    "\n",
    "# Prevedere la categoria per il nuovo utente\n",
    "predicted_category = knn_model.predict(new_user_array)\n",
    "\n",
    "print(\"Categoria prevista per il nuovo utente:\", predicted_category[0])"
   ]
  },
  {
   "cell_type": "markdown",
   "id": "b493a6b6",
   "metadata": {},
   "source": [
    "Classifica un po' a caso, ovvero guarda un range del costo e lo suddivide in categorie. Il problema è che diverse categorie hanno lo stesso range di costo, il che lo rende casuale.\n",
    "\n",
    "Per me i passaggi che si dovranno fare con il dataset reale sono:\n",
    "\n",
    "- pulizia dei dati superflui o valori mancanti\n",
    "\n",
    "Qui si prende un bivio:\n",
    "- categorizzare il commerciante e tramite modello di raccomandazione predirre in quali categorie spenderà in futuro tramite i pagamenti precedenti\n",
    "- fare un clustering dei diversi utenti per classificarli in diverse etichette (VOlendo si può categorizzare per reddito in base a quanto spendono o chi è disposto a spendere di più)"
   ]
  },
  {
   "cell_type": "code",
   "execution_count": 54,
   "id": "bf77f918",
   "metadata": {},
   "outputs": [
    {
     "data": {
      "text/html": [
       "<div>\n",
       "<style scoped>\n",
       "    .dataframe tbody tr th:only-of-type {\n",
       "        vertical-align: middle;\n",
       "    }\n",
       "\n",
       "    .dataframe tbody tr th {\n",
       "        vertical-align: top;\n",
       "    }\n",
       "\n",
       "    .dataframe thead th {\n",
       "        text-align: right;\n",
       "    }\n",
       "</style>\n",
       "<table border=\"1\" class=\"dataframe\">\n",
       "  <thead>\n",
       "    <tr style=\"text-align: right;\">\n",
       "      <th></th>\n",
       "      <th>Timestamp</th>\n",
       "      <th>User ID</th>\n",
       "      <th>Beneficiary ID</th>\n",
       "      <th>Amount</th>\n",
       "      <th>Transaction ID</th>\n",
       "      <th>Transaction Type</th>\n",
       "      <th>Payment Method</th>\n",
       "      <th>Account Balance Before</th>\n",
       "      <th>Account Balance After</th>\n",
       "      <th>Transaction Status</th>\n",
       "      <th>Location</th>\n",
       "      <th>Category</th>\n",
       "      <th>Fee</th>\n",
       "      <th>Tax</th>\n",
       "    </tr>\n",
       "  </thead>\n",
       "  <tbody>\n",
       "    <tr>\n",
       "      <th>0</th>\n",
       "      <td>2023-10-18 15:04:28</td>\n",
       "      <td>478</td>\n",
       "      <td>7225</td>\n",
       "      <td>675.09</td>\n",
       "      <td>9af1a39a-d229-4120-8dfc-2f9cac3bbb21</td>\n",
       "      <td>payment</td>\n",
       "      <td>bank transfer</td>\n",
       "      <td>6063.69</td>\n",
       "      <td>5388.60</td>\n",
       "      <td>completed</td>\n",
       "      <td>Villa Ripa, Bergamo, Italia</td>\n",
       "      <td>Sport</td>\n",
       "      <td>3.55</td>\n",
       "      <td>1.74</td>\n",
       "    </tr>\n",
       "    <tr>\n",
       "      <th>1</th>\n",
       "      <td>2024-02-07 08:28:19</td>\n",
       "      <td>750</td>\n",
       "      <td>7705</td>\n",
       "      <td>157.68</td>\n",
       "      <td>f0e6f760-e951-43a7-826b-9ec73c2de977</td>\n",
       "      <td>payment</td>\n",
       "      <td>PayPal</td>\n",
       "      <td>7975.02</td>\n",
       "      <td>7817.34</td>\n",
       "      <td>completed</td>\n",
       "      <td>Leonforte, Firenze, Italia</td>\n",
       "      <td>Vestiti</td>\n",
       "      <td>3.40</td>\n",
       "      <td>1.80</td>\n",
       "    </tr>\n",
       "    <tr>\n",
       "      <th>2</th>\n",
       "      <td>2024-03-24 13:22:59</td>\n",
       "      <td>67</td>\n",
       "      <td>3006</td>\n",
       "      <td>13.09</td>\n",
       "      <td>2cd70498-4d4d-4fa3-a094-f27eb1f60781</td>\n",
       "      <td>payment</td>\n",
       "      <td>PayPal</td>\n",
       "      <td>4549.07</td>\n",
       "      <td>4535.98</td>\n",
       "      <td>completed</td>\n",
       "      <td>Gonnosno', Belluno, Italia</td>\n",
       "      <td>Netflix</td>\n",
       "      <td>0.50</td>\n",
       "      <td>2.84</td>\n",
       "    </tr>\n",
       "    <tr>\n",
       "      <th>3</th>\n",
       "      <td>2023-01-21 08:40:44</td>\n",
       "      <td>97</td>\n",
       "      <td>7741</td>\n",
       "      <td>56.57</td>\n",
       "      <td>84fd3fe1-fe4d-46dc-b2b4-633d4f0688ec</td>\n",
       "      <td>payment</td>\n",
       "      <td>credit card</td>\n",
       "      <td>4279.21</td>\n",
       "      <td>4222.64</td>\n",
       "      <td>completed</td>\n",
       "      <td>Santi Cosma E Damiano, Pisa, Italia</td>\n",
       "      <td>Alimentari</td>\n",
       "      <td>0.70</td>\n",
       "      <td>2.62</td>\n",
       "    </tr>\n",
       "    <tr>\n",
       "      <th>4</th>\n",
       "      <td>2023-01-15 09:26:00</td>\n",
       "      <td>725</td>\n",
       "      <td>7573</td>\n",
       "      <td>87.32</td>\n",
       "      <td>00cfe072-e077-4dbf-9c75-9e93897094cb</td>\n",
       "      <td>payment</td>\n",
       "      <td>PayPal</td>\n",
       "      <td>2441.96</td>\n",
       "      <td>2354.64</td>\n",
       "      <td>completed</td>\n",
       "      <td>Pedivigliano, Perugia, Italia</td>\n",
       "      <td>Alimentari</td>\n",
       "      <td>2.60</td>\n",
       "      <td>2.03</td>\n",
       "    </tr>\n",
       "  </tbody>\n",
       "</table>\n",
       "</div>"
      ],
      "text/plain": [
       "             Timestamp  User ID  Beneficiary ID  Amount  \\\n",
       "0  2023-10-18 15:04:28      478            7225  675.09   \n",
       "1  2024-02-07 08:28:19      750            7705  157.68   \n",
       "2  2024-03-24 13:22:59       67            3006   13.09   \n",
       "3  2023-01-21 08:40:44       97            7741   56.57   \n",
       "4  2023-01-15 09:26:00      725            7573   87.32   \n",
       "\n",
       "                         Transaction ID Transaction Type Payment Method  \\\n",
       "0  9af1a39a-d229-4120-8dfc-2f9cac3bbb21          payment  bank transfer   \n",
       "1  f0e6f760-e951-43a7-826b-9ec73c2de977          payment         PayPal   \n",
       "2  2cd70498-4d4d-4fa3-a094-f27eb1f60781          payment         PayPal   \n",
       "3  84fd3fe1-fe4d-46dc-b2b4-633d4f0688ec          payment    credit card   \n",
       "4  00cfe072-e077-4dbf-9c75-9e93897094cb          payment         PayPal   \n",
       "\n",
       "   Account Balance Before  Account Balance After Transaction Status  \\\n",
       "0                 6063.69                5388.60          completed   \n",
       "1                 7975.02                7817.34          completed   \n",
       "2                 4549.07                4535.98          completed   \n",
       "3                 4279.21                4222.64          completed   \n",
       "4                 2441.96                2354.64          completed   \n",
       "\n",
       "                              Location    Category   Fee   Tax  \n",
       "0          Villa Ripa, Bergamo, Italia       Sport  3.55  1.74  \n",
       "1           Leonforte, Firenze, Italia     Vestiti  3.40  1.80  \n",
       "2           Gonnosno', Belluno, Italia     Netflix  0.50  2.84  \n",
       "3  Santi Cosma E Damiano, Pisa, Italia  Alimentari  0.70  2.62  \n",
       "4        Pedivigliano, Perugia, Italia  Alimentari  2.60  2.03  "
      ]
     },
     "execution_count": 54,
     "metadata": {},
     "output_type": "execute_result"
    }
   ],
   "source": [
    "pagamenti.head()"
   ]
  },
  {
   "cell_type": "code",
   "execution_count": 57,
   "id": "76e958e2",
   "metadata": {},
   "outputs": [
    {
     "data": {
      "text/plain": [
       "0        2023-10-18 15:04:28\n",
       "1        2024-02-07 08:28:19\n",
       "2        2024-03-24 13:22:59\n",
       "3        2023-01-21 08:40:44\n",
       "4        2023-01-15 09:26:00\n",
       "                ...         \n",
       "99995    2023-02-19 04:40:27\n",
       "99996    2023-03-05 18:11:28\n",
       "99997    2023-09-06 12:58:50\n",
       "99998    2023-06-08 19:35:09\n",
       "99999    2024-05-14 11:01:16\n",
       "Name: Timestamp, Length: 100000, dtype: object"
      ]
     },
     "execution_count": 57,
     "metadata": {},
     "output_type": "execute_result"
    }
   ],
   "source": [
    "pagamenti[\"Timestamp\"]"
   ]
  },
  {
   "cell_type": "code",
   "execution_count": 58,
   "id": "c1c504c9",
   "metadata": {},
   "outputs": [
    {
     "data": {
      "text/plain": [
       "0        2023-10-18 15:04:28\n",
       "1        2024-02-07 08:28:19\n",
       "2        2024-03-24 13:22:59\n",
       "3        2023-01-21 08:40:44\n",
       "4        2023-01-15 09:26:00\n",
       "                ...         \n",
       "99995    2023-02-19 04:40:27\n",
       "99996    2023-03-05 18:11:28\n",
       "99997    2023-09-06 12:58:50\n",
       "99998    2023-06-08 19:35:09\n",
       "99999    2024-05-14 11:01:16\n",
       "Name: Timestamp, Length: 100000, dtype: object"
      ]
     },
     "execution_count": 58,
     "metadata": {},
     "output_type": "execute_result"
    }
   ],
   "source": [
    "pagamenti[\"Timestamp\"].astype(str)"
   ]
  },
  {
   "cell_type": "code",
   "execution_count": 63,
   "id": "325d4ad3",
   "metadata": {},
   "outputs": [
    {
     "data": {
      "text/plain": [
       "0    2023-10-18\n",
       "1    2024-02-07\n",
       "2    2024-03-24\n",
       "3    2023-01-21\n",
       "4    2023-01-15\n",
       "Name: Timestamp, dtype: object"
      ]
     },
     "execution_count": 63,
     "metadata": {},
     "output_type": "execute_result"
    }
   ],
   "source": [
    "pagamenti[\"Timestamp\"] = pagamenti[\"Timestamp\"].str[:-1]\n",
    "pagamenti[\"Timestamp\"].head()"
   ]
  },
  {
   "cell_type": "code",
   "execution_count": 64,
   "id": "8bc4b6b0",
   "metadata": {},
   "outputs": [
    {
     "data": {
      "text/plain": [
       "0    2023-10-18\n",
       "1    2024-02-07\n",
       "2    2024-03-24\n",
       "3    2023-01-21\n",
       "4    2023-01-15\n",
       "Name: Timestamp, dtype: object"
      ]
     },
     "execution_count": 64,
     "metadata": {},
     "output_type": "execute_result"
    }
   ],
   "source": [
    "pagamenti[\"Timestamp\"].head()"
   ]
  },
  {
   "cell_type": "code",
   "execution_count": 74,
   "id": "dc3646d2",
   "metadata": {},
   "outputs": [
    {
     "data": {
      "text/plain": [
       "0       2023-10-18\n",
       "1       2024-02-07\n",
       "2       2024-03-24\n",
       "3       2023-01-21\n",
       "4       2023-01-15\n",
       "           ...    \n",
       "99995   2023-02-19\n",
       "99996   2023-03-05\n",
       "99997   2023-09-06\n",
       "99998   2023-06-08\n",
       "99999   2024-05-14\n",
       "Name: Timestamp, Length: 100000, dtype: datetime64[ns]"
      ]
     },
     "execution_count": 74,
     "metadata": {},
     "output_type": "execute_result"
    }
   ],
   "source": [
    "pagamenti[\"Timestamp\"].astype(\"datetime64[ns]\")"
   ]
  },
  {
   "cell_type": "code",
   "execution_count": 82,
   "id": "57660ddd",
   "metadata": {},
   "outputs": [
    {
     "data": {
      "text/html": [
       "<div>\n",
       "<style scoped>\n",
       "    .dataframe tbody tr th:only-of-type {\n",
       "        vertical-align: middle;\n",
       "    }\n",
       "\n",
       "    .dataframe tbody tr th {\n",
       "        vertical-align: top;\n",
       "    }\n",
       "\n",
       "    .dataframe thead th {\n",
       "        text-align: right;\n",
       "    }\n",
       "</style>\n",
       "<table border=\"1\" class=\"dataframe\">\n",
       "  <thead>\n",
       "    <tr style=\"text-align: right;\">\n",
       "      <th></th>\n",
       "      <th>Timestamp</th>\n",
       "      <th>User ID</th>\n",
       "      <th>Beneficiary ID</th>\n",
       "      <th>Amount</th>\n",
       "      <th>Transaction ID</th>\n",
       "      <th>Transaction Type</th>\n",
       "      <th>Payment Method</th>\n",
       "      <th>Account Balance Before</th>\n",
       "      <th>Account Balance After</th>\n",
       "      <th>Transaction Status</th>\n",
       "      <th>Location</th>\n",
       "      <th>Category</th>\n",
       "      <th>Fee</th>\n",
       "      <th>Tax</th>\n",
       "      <th>Anno</th>\n",
       "      <th>Mese</th>\n",
       "    </tr>\n",
       "  </thead>\n",
       "  <tbody>\n",
       "    <tr>\n",
       "      <th>0</th>\n",
       "      <td>2023-10-18</td>\n",
       "      <td>478</td>\n",
       "      <td>7225</td>\n",
       "      <td>675.09</td>\n",
       "      <td>9af1a39a-d229-4120-8dfc-2f9cac3bbb21</td>\n",
       "      <td>payment</td>\n",
       "      <td>bank transfer</td>\n",
       "      <td>6063.69</td>\n",
       "      <td>5388.60</td>\n",
       "      <td>completed</td>\n",
       "      <td>Villa Ripa, Bergamo, Italia</td>\n",
       "      <td>Sport</td>\n",
       "      <td>3.55</td>\n",
       "      <td>1.74</td>\n",
       "      <td>2023</td>\n",
       "      <td>10</td>\n",
       "    </tr>\n",
       "    <tr>\n",
       "      <th>1</th>\n",
       "      <td>2024-02-07</td>\n",
       "      <td>750</td>\n",
       "      <td>7705</td>\n",
       "      <td>157.68</td>\n",
       "      <td>f0e6f760-e951-43a7-826b-9ec73c2de977</td>\n",
       "      <td>payment</td>\n",
       "      <td>PayPal</td>\n",
       "      <td>7975.02</td>\n",
       "      <td>7817.34</td>\n",
       "      <td>completed</td>\n",
       "      <td>Leonforte, Firenze, Italia</td>\n",
       "      <td>Vestiti</td>\n",
       "      <td>3.40</td>\n",
       "      <td>1.80</td>\n",
       "      <td>2024</td>\n",
       "      <td>2</td>\n",
       "    </tr>\n",
       "    <tr>\n",
       "      <th>2</th>\n",
       "      <td>2024-03-24</td>\n",
       "      <td>67</td>\n",
       "      <td>3006</td>\n",
       "      <td>13.09</td>\n",
       "      <td>2cd70498-4d4d-4fa3-a094-f27eb1f60781</td>\n",
       "      <td>payment</td>\n",
       "      <td>PayPal</td>\n",
       "      <td>4549.07</td>\n",
       "      <td>4535.98</td>\n",
       "      <td>completed</td>\n",
       "      <td>Gonnosno', Belluno, Italia</td>\n",
       "      <td>Netflix</td>\n",
       "      <td>0.50</td>\n",
       "      <td>2.84</td>\n",
       "      <td>2024</td>\n",
       "      <td>3</td>\n",
       "    </tr>\n",
       "    <tr>\n",
       "      <th>3</th>\n",
       "      <td>2023-01-21</td>\n",
       "      <td>97</td>\n",
       "      <td>7741</td>\n",
       "      <td>56.57</td>\n",
       "      <td>84fd3fe1-fe4d-46dc-b2b4-633d4f0688ec</td>\n",
       "      <td>payment</td>\n",
       "      <td>credit card</td>\n",
       "      <td>4279.21</td>\n",
       "      <td>4222.64</td>\n",
       "      <td>completed</td>\n",
       "      <td>Santi Cosma E Damiano, Pisa, Italia</td>\n",
       "      <td>Alimentari</td>\n",
       "      <td>0.70</td>\n",
       "      <td>2.62</td>\n",
       "      <td>2023</td>\n",
       "      <td>1</td>\n",
       "    </tr>\n",
       "    <tr>\n",
       "      <th>4</th>\n",
       "      <td>2023-01-15</td>\n",
       "      <td>725</td>\n",
       "      <td>7573</td>\n",
       "      <td>87.32</td>\n",
       "      <td>00cfe072-e077-4dbf-9c75-9e93897094cb</td>\n",
       "      <td>payment</td>\n",
       "      <td>PayPal</td>\n",
       "      <td>2441.96</td>\n",
       "      <td>2354.64</td>\n",
       "      <td>completed</td>\n",
       "      <td>Pedivigliano, Perugia, Italia</td>\n",
       "      <td>Alimentari</td>\n",
       "      <td>2.60</td>\n",
       "      <td>2.03</td>\n",
       "      <td>2023</td>\n",
       "      <td>1</td>\n",
       "    </tr>\n",
       "  </tbody>\n",
       "</table>\n",
       "</div>"
      ],
      "text/plain": [
       "   Timestamp  User ID  Beneficiary ID  Amount  \\\n",
       "0 2023-10-18      478            7225  675.09   \n",
       "1 2024-02-07      750            7705  157.68   \n",
       "2 2024-03-24       67            3006   13.09   \n",
       "3 2023-01-21       97            7741   56.57   \n",
       "4 2023-01-15      725            7573   87.32   \n",
       "\n",
       "                         Transaction ID Transaction Type Payment Method  \\\n",
       "0  9af1a39a-d229-4120-8dfc-2f9cac3bbb21          payment  bank transfer   \n",
       "1  f0e6f760-e951-43a7-826b-9ec73c2de977          payment         PayPal   \n",
       "2  2cd70498-4d4d-4fa3-a094-f27eb1f60781          payment         PayPal   \n",
       "3  84fd3fe1-fe4d-46dc-b2b4-633d4f0688ec          payment    credit card   \n",
       "4  00cfe072-e077-4dbf-9c75-9e93897094cb          payment         PayPal   \n",
       "\n",
       "   Account Balance Before  Account Balance After Transaction Status  \\\n",
       "0                 6063.69                5388.60          completed   \n",
       "1                 7975.02                7817.34          completed   \n",
       "2                 4549.07                4535.98          completed   \n",
       "3                 4279.21                4222.64          completed   \n",
       "4                 2441.96                2354.64          completed   \n",
       "\n",
       "                              Location    Category   Fee   Tax  Anno  Mese  \n",
       "0          Villa Ripa, Bergamo, Italia       Sport  3.55  1.74  2023    10  \n",
       "1           Leonforte, Firenze, Italia     Vestiti  3.40  1.80  2024     2  \n",
       "2           Gonnosno', Belluno, Italia     Netflix  0.50  2.84  2024     3  \n",
       "3  Santi Cosma E Damiano, Pisa, Italia  Alimentari  0.70  2.62  2023     1  \n",
       "4        Pedivigliano, Perugia, Italia  Alimentari  2.60  2.03  2023     1  "
      ]
     },
     "execution_count": 82,
     "metadata": {},
     "output_type": "execute_result"
    }
   ],
   "source": [
    "pagamenti[\"Timestamp\"] = pd.to_datetime(pagamenti[\"Timestamp\"])\n",
    "\n",
    "\n",
    "pagamenti[\"Anno\"] = pagamenti[\"Timestamp\"].dt.year\n",
    "pagamenti[\"Mese\"] = pagamenti[\"Timestamp\"].dt.month\n",
    "pagamenti.head()"
   ]
  },
  {
   "cell_type": "code",
   "execution_count": 91,
   "id": "fd8ad358",
   "metadata": {},
   "outputs": [
    {
     "name": "stdout",
     "output_type": "stream",
     "text": [
      "La spesa complessiva nell'anno  2023  è di  16253.5 €\n"
     ]
    }
   ],
   "source": [
    "\n",
    "def spesa_annua(n_user, year):\n",
    "    user = pagamenti[pagamenti[\"User ID\"] == n_user]\n",
    "    spesa_anno = user[user[\"Anno\"] == year]\n",
    "    total = spesa_anno[\"Amount\"].sum()\n",
    "    print(\"La spesa complessiva nell'anno \", year, \" è di \", total, \"€\")\n",
    "\n",
    "spesa_annua(67, 2023)"
   ]
  },
  {
   "cell_type": "code",
   "execution_count": 145,
   "id": "74fdba20",
   "metadata": {},
   "outputs": [],
   "source": [
    "def plot_spesa_annua(n_user, year):\n",
    "    X = pagamenti[[\"User ID\", \"Amount\", \"Anno\", \"Mese\"]]\n",
    "    user = X[X[\"User ID\"] == n_user]\n",
    "    spesa_anno = user[user[\"Anno\"] == year]\n",
    "    spesa_mese = spesa_anno.groupby([\"Mese\"])[\"Amount\"].sum()\n",
    "    tabella_finale = pd.DataFrame({\n",
    "    \"UserID\": n_user,\n",
    "    \"Amount\": spesa_mese.values,\n",
    "    \"Anno\": year,\n",
    "    \"Mese\": spesa_mese.index.to_list()\n",
    "    })\n",
    "\n",
    "\n",
    "    fig, ax = plt.subplots()\n",
    "    ax.plot(tabella_finale[\"Mese\"], tabella_finale[\"Amount\"], linestyle=\"solid\")\n",
    "    ax.set(xlabel=\"Mesi\",\n",
    "           ylabel=\"Spesa totale in €\",\n",
    "           title=f\"Spesa anno {year} utente {n_user}\")\n"
   ]
  },
  {
   "cell_type": "code",
   "execution_count": 146,
   "id": "f51cc0b9",
   "metadata": {},
   "outputs": [
    {
     "data": {
      "image/png": "[encoded data removed]",
      "text/plain": [
       "<Figure size 640x480 with 1 Axes>"
      ]
     },
     "metadata": {},
     "output_type": "display_data"
    }
   ],
   "source": [
    "plot_spesa_annua(156, 2024)"
   ]
  },
  {
   "cell_type": "code",
   "execution_count": 148,
   "id": "b315cbf6",
   "metadata": {},
   "outputs": [
    {
     "data": {
      "image/png": "[encoded data removed]",
      "text/plain": [
       "<Figure size 640x480 with 1 Axes>"
      ]
     },
     "metadata": {},
     "output_type": "display_data"
    }
   ],
   "source": [
    "plot_spesa_annua(156, 2023)"
   ]
  },
  {
   "cell_type": "code",
   "execution_count": null,
   "id": "a778444a",
   "metadata": {},
   "outputs": [],
   "source": []
  }
 ],
 "metadata": {
  "kernelspec": {
   "display_name": "Python 3 (ipykernel)",
   "language": "python",
   "name": "python3"
  },
  "language_info": {
   "codemirror_mode": {
    "name": "ipython",
    "version": 3
   },
   "file_extension": ".py",
   "mimetype": "text/x-python",
   "name": "python",
   "nbconvert_exporter": "python",
   "pygments_lexer": "ipython3",
   "version": "3.12.3"
  }
 },
 "nbformat": 4,
 "nbformat_minor": 5
}
